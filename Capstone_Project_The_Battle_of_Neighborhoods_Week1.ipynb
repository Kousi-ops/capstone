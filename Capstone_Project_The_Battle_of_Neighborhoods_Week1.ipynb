{
  "nbformat": 4,
  "nbformat_minor": 0,
  "metadata": {
    "colab": {
      "name": "Capstone_Project_The_Battle_of_Neighborhoods_Week1.ipynb",
      "version": "0.3.2",
      "provenance": [],
      "collapsed_sections": []
    },
    "kernelspec": {
      "name": "python3",
      "display_name": "Python 3"
    }
  },
  "cells": [
    {
      "cell_type": "markdown",
      "metadata": {
        "id": "W7GbxFtF04bW",
        "colab_type": "text"
      },
      "source": [
        "# Coursera Capstone Project for IBM Data Science Specialization - Week 1\n",
        "\n",
        "**By Aravindan Natarajan**"
      ]
    },
    {
      "cell_type": "markdown",
      "metadata": {
        "id": "76RMP9jm-Htz",
        "colab_type": "text"
      },
      "source": [
        "# 1. Introduction\n",
        "\n",
        "## 1.1. Background\n",
        "\n",
        "Dallas city is one of the most popoulous city in U.S. and is home to many immigrant population in Texas after San Antonio and Houston. Furthermore, it is the fourth-largest metropolitan area in the U.S. at 7.5 million people as of 2018 with an estimated population of 7,846,293 residents.\n",
        "Being an metropolitan city, Dallas is also home to many restaurants which serves wide variety of cuisines. Owing to significant number of Indian expatriate population, Dallas City and its nearby Suburbs have handful of Indian restaurant.\n",
        "\n",
        "So, as a part of this project Indian restaurants in Dallas City will be listed, visualized and rated.\n",
        "\n",
        "## 1.2. Problem Description\n",
        "\n",
        "By utilizing the Dallas City restaurants inspection data, Indian Restaurants in Dallas City and their risk category will be Analyzed. Secondly, a classsifier model will be built to predict the risk categories of resturants. Furthermore, using the foursqure API we will get the ratings of Indian Restaurants in Dallas City.\n",
        "\n",
        "## 1.3. Target Audience\n",
        "* People looking to open new restaurants\n",
        "* Restaurants\n",
        "* Travelers who love Indian food"
      ]
    },
    {
      "cell_type": "markdown",
      "metadata": {
        "id": "GvBnMwxioaNt",
        "colab_type": "text"
      },
      "source": [
        "# 2. Data\n",
        "\n",
        "For this project we will use the following data :\n",
        "\n",
        "1. Dallas City restaurants inspection data from 2016-2019\n",
        "*  Data source : https://www.dallasopendata.com/api/views/dri5-wcct/rows.csv?accessType=DOWNLOAD\n",
        "*  Description : This data set contains 37876 rows and 114 coulmns with Restaurant Name, Street Name, violation descriptions along with their latitude and longitude. This data will be downloaded and used.\n",
        "* ![Snapshot of Dallas City Inspection Data Frame](https://github.com/aravindann92/Coursera_Capstone/blob/master/DF_Snap.PNG)\n",
        "2. Ratings of Indian resturants for selected locality in Dallas City\n",
        "*  Data source : Fousquare API\n",
        "*  Description : By using this api we will get all the ratings for Indian restaurants in selected neighborhood"
      ]
    },
    {
      "cell_type": "markdown",
      "metadata": {
        "id": "L4AiZkZGmoEQ",
        "colab_type": "text"
      },
      "source": [
        "# 3.Methodology\n",
        "1. Collect the Dallas City Restaurants Inspection data from https://www.dallasopendata.com/api/views/dri5-wcct/rows.csv?accessType=DOWNLOAD\n",
        "2. Analyze the restaurants based on their risk category\n",
        "3. Built machine learning classifier model for predicting the risk category the resturants are placed\n",
        "4. Filter out all venues from the inspection data that are Indian Resturants.\n",
        "5. Visualize the Indian Restaurants using folium library(python)\n",
        "6. Find rating , tips and like count for each Indian Resturants using FourSquare API."
      ]
    }
  ]
}